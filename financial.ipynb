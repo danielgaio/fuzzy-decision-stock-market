{
 "cells": [
  {
   "cell_type": "markdown",
   "metadata": {},
   "source": [
    "Lista de variáveis\n",
    "ult significa ultimo ano\n",
    "ideia: Ter uma lista onde cada elemnto é uma tupla contendo todas as informações (variaveis) de uma ação, ou seja, cada tupla é uma ação."
   ]
  },
  {
   "cell_type": "markdown",
   "metadata": {},
   "source": [
    "nome_ação = (\n",
    "    receita_liquida_ult,\n",
    "    ganho_acao_diluido_ult,\n",
    "    renda_liquida_ult,\n",
    "    total_ativos_ult,\n",
    "    preco_lucro,\n",
    "    valor_abertura,\n",
    "    valor_atual,\n",
    "    dinheiro_investidor,\n",
    "    perfil_investidor,\n",
    "    valor_ação_compra\n",
    ")"
   ]
  },
  {
   "cell_type": "code",
   "execution_count": 6,
   "metadata": {},
   "outputs": [
    {
     "name": "stdout",
     "output_type": "stream",
     "text": [
      "21053000\n"
     ]
    }
   ],
   "source": [
    "intel = (\n",
    "        70848000,\n",
    "        4.48,\n",
    "        21053000,\n",
    "        127963000,\n",
    "        11.41,\n",
    "        50.78,\n",
    "        51.09,\n",
    "        10000000,\n",
    "        9,\n",
    "        0\n",
    ")"
   ]
  },
  {
   "cell_type": "code",
   "execution_count": 7,
   "metadata": {},
   "outputs": [],
   "source": [
    "amd = (\n",
    "        6475000,\n",
    "        0.32,\n",
    "        377000,\n",
    "        4556000,\n",
    "        92.38,\n",
    "        28.73,\n",
    "        29.56,\n",
    "        10000000,\n",
    "        10,\n",
    "        0\n",
    ")"
   ]
  },
  {
   "cell_type": "code",
   "execution_count": null,
   "metadata": {},
   "outputs": [],
   "source": [
    "def func_fuzzification(acao):\n",
    "    \n",
    "    "
   ]
  }
 ],
 "metadata": {
  "kernelspec": {
   "display_name": "Python 3",
   "language": "python",
   "name": "python3"
  },
  "language_info": {
   "codemirror_mode": {
    "name": "ipython",
    "version": 3
   },
   "file_extension": ".py",
   "mimetype": "text/x-python",
   "name": "python",
   "nbconvert_exporter": "python",
   "pygments_lexer": "ipython3",
   "version": "3.7.3"
  }
 },
 "nbformat": 4,
 "nbformat_minor": 2
}
