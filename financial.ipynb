{
 "cells": [
  {
   "cell_type": "markdown",
   "metadata": {},
   "source": [
    "Lista de variáveis\n",
    "ult significa ultimo ano\n",
    "idéia: Ter uma lista onde cada elemnto é uma tupla contendo todas as informações (variaveis) de uma ação, ou seja, cada tupla é uma ação."
   ]
  },
  {
   "cell_type": "markdown",
   "metadata": {},
   "source": [
    "nome_ação = (\n",
    "    receita_liquida_ult,\n",
    "    ganho_acao_diluido_ult,\n",
    "    renda_liquida_ult,\n",
    "    total_ativos_ult,\n",
    "    valor_abertura,\n",
    "    valor_atual,\n",
    "    dinheiro_investidor,\n",
    "    perfil_investidor,\n",
    "    valor_ação_compra\n",
    ")"
   ]
  },
  {
   "cell_type": "code",
   "execution_count": null,
   "metadata": {},
   "outputs": [],
   "source": [
    "intel = (\n",
    "    \n",
    ")"
   ]
  }
 ],
 "metadata": {
  "kernelspec": {
   "display_name": "Python 3",
   "language": "python",
   "name": "python3"
  },
  "language_info": {
   "codemirror_mode": {
    "name": "ipython",
    "version": 3
   },
   "file_extension": ".py",
   "mimetype": "text/x-python",
   "name": "python",
   "nbconvert_exporter": "python",
   "pygments_lexer": "ipython3",
   "version": "3.7.3"
  }
 },
 "nbformat": 4,
 "nbformat_minor": 2
}
