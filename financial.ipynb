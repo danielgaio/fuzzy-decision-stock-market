{
 "cells": [
  {
   "cell_type": "markdown",
   "metadata": {},
   "source": [
    "Lista de variáveis\n",
    "ult significa ultimo ano\n",
    "ideia: Ter uma lista onde cada elemnto é uma tupla contendo todas as informações (variaveis) de uma ação, ou seja, cada tupla é uma ação."
   ]
  },
  {
   "cell_type": "markdown",
   "metadata": {},
   "source": [
    "nome_ação = (\n",
    "    receita_liquida_ult,\n",
    "    ganho_acao_diluido_ult,\n",
    "    renda_liquida_ult,\n",
    "    total_ativos_ult,\n",
    "    preco_lucro,\n",
    "    valor_abertura,\n",
    "    valor_atual,\n",
    "    dinheiro_investidor,\n",
    "    perfil_investidor,\n",
    "    valor_ação_compra\n",
    ")"
   ]
  },
  {
   "cell_type": "code",
   "execution_count": 1,
   "metadata": {},
   "outputs": [],
   "source": [
    "intel = (\n",
    "        70848000,\n",
    "        4.48,\n",
    "        21053000,\n",
    "        127963000,\n",
    "        11.41,\n",
    "        50.78,\n",
    "        51.09,\n",
    "        10000000,\n",
    "        9,\n",
    "        0\n",
    ")"
   ]
  },
  {
   "cell_type": "code",
   "execution_count": 2,
   "metadata": {},
   "outputs": [],
   "source": [
    "amd = (\n",
    "        6475000,\n",
    "        0.32,\n",
    "        377000,\n",
    "        4556000,\n",
    "        92.38,\n",
    "        28.73,\n",
    "        29.56,\n",
    "        10000000,\n",
    "        10,\n",
    "        0\n",
    ")"
   ]
  },
  {
   "cell_type": "code",
   "execution_count": 16,
   "metadata": {},
   "outputs": [],
   "source": [
    "def func_fuzzification(acao):\n",
    "    \n",
    "#==============================================================\n",
    "    # receita liguida baixa. \n",
    "    if acao[0] <= 12000000:\n",
    "        \n",
    "        receita_liquida_ult = [1]\n",
    "        \n",
    "    elif acao[0] < 50000000 and acao[0] > 12000000:\n",
    "        \n",
    "        receita_liquida_ult = [(50000000 - acao[0]) / 48000000]\n",
    "        \n",
    "    else:\n",
    "        \n",
    "        receita_liquida_ult = [0]\n",
    "        \n",
    "    # receita liguida alta.\n",
    "    \n",
    "    if acao[0] >= 100000000:\n",
    "        \n",
    "        receita_liquida_ult.append(1)\n",
    "        \n",
    "    elif acao[0] < 100000000 and acao[0] > 0:\n",
    "        \n",
    "        receita_liquida_ult.append(acao[0] / 100000000)\n",
    "        \n",
    "    else:\n",
    "        receita_liquida_ult.append(0)\n",
    "#==============================================================\n",
    "\n",
    "#==============================================================\n",
    "    # ganho por ação diluido baixo\n",
    "    if acao[1] <= 0.3:\n",
    "        \n",
    "        ganho_acao_diluido_ult = [1]\n",
    "        \n",
    "    elif acao[1] > 0.3 and acao[1] < 5:\n",
    "        \n",
    "        ganho_acao_diluido_ult = [(5 - acao[1]) / 4.7]\n",
    "        \n",
    "    else:\n",
    "        \n",
    "        ganho_acao_diluido_ult = [0]\n",
    "        \n",
    "    # ganho por ação diluido alto\n",
    "    \n",
    "    if acao[1] >= 7.5:\n",
    "        \n",
    "        ganho_acao_diluido_ult.append(1)\n",
    "        \n",
    "    elif acao[1] < 7.5 and acao[1] > 0.6:\n",
    "        \n",
    "        ganho_acao_diluido_ult.append((acao[1] - 0.6)/ 6.9)\n",
    "        \n",
    "    else:\n",
    "        ganho_acao_diluido_ult.append(0)\n",
    "#==============================================================\n",
    "\n",
    "#==============================================================\n",
    "    # Renda liquida baixa\n",
    "    if acao[2] <= 6000000:\n",
    "        \n",
    "        renda_liquida_ult = [1]\n",
    "        \n",
    "    elif acao[2] > 6000000 and acao[2] < 75000000:\n",
    "        \n",
    "        renda_liquida_ult = [(50000000 - acao[2]) / 44000000]\n",
    "        \n",
    "    else:\n",
    "        \n",
    "        renda_liquida_ult = [0]\n",
    "        \n",
    "    # Renda liquida alta\n",
    "    if acao[2] >= 75000000:\n",
    "        \n",
    "        renda_liquida_ult.append(1)\n",
    "        \n",
    "    elif acao[2] < 75000000 and acao[2] > 6000000:\n",
    "        \n",
    "        renda_liquida_ult.append((acao[2] - 6000000)/ 69000000)\n",
    "        \n",
    "    else:\n",
    "        renda_liquida_ult.append(0)\n",
    "#==============================================================\n",
    "\n",
    "    \n",
    "    # Retorno\n",
    "    acao_fuzzyficada = (\n",
    "        receita_liquida_ult,\n",
    "        ganho_acao_diluido_ult,\n",
    "        renda_liquida_ult\n",
    "    )\n",
    "    return acao_fuzzyficada"
   ]
  },
  {
   "cell_type": "code",
   "execution_count": 17,
   "metadata": {},
   "outputs": [
    {
     "data": {
      "text/plain": [
       "([1, 0.06475], [0.9957446808510637, 0], [1, 0])"
      ]
     },
     "execution_count": 17,
     "metadata": {},
     "output_type": "execute_result"
    }
   ],
   "source": [
    "func_fuzzification(amd)"
   ]
  },
  {
   "cell_type": "code",
   "execution_count": null,
   "metadata": {},
   "outputs": [],
   "source": []
  }
 ],
 "metadata": {
  "kernelspec": {
   "display_name": "Python 3",
   "language": "python",
   "name": "python3"
  },
  "language_info": {
   "codemirror_mode": {
    "name": "ipython",
    "version": 3
   },
   "file_extension": ".py",
   "mimetype": "text/x-python",
   "name": "python",
   "nbconvert_exporter": "python",
   "pygments_lexer": "ipython3",
   "version": "3.7.3"
  }
 },
 "nbformat": 4,
 "nbformat_minor": 2
}
