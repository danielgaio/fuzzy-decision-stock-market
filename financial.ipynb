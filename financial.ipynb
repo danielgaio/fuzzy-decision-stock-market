{
 "cells": [
  {
   "cell_type": "markdown",
   "metadata": {},
   "source": [
    "Lista de variáveis\n",
    "ult significa ultimo ano\n",
    "ideia: Ter uma lista onde cada elemnto é uma tupla contendo todas as informações (variaveis) de uma ação, ou seja, cada tupla é uma ação."
   ]
  },
  {
   "cell_type": "markdown",
   "metadata": {},
   "source": [
    "nome_ação = (\n",
    "    receita_liquida_ult,\n",
    "    ganho_acao_diluido_ult,\n",
    "    renda_liquida_ult,\n",
    "    total_ativos_ult,\n",
    "    preco_lucro,\n",
    "    valor_abertura,\n",
    "    valor_atual,\n",
    "    dinheiro_investidor,\n",
    "    perfil_investidor,\n",
    "    valor_ação_compra\n",
    ")"
   ]
  },
  {
   "cell_type": "code",
   "execution_count": 1,
   "metadata": {},
   "outputs": [],
   "source": [
    "intel = (\n",
    "        70848000,\n",
    "        4.48,\n",
    "        21053000,\n",
    "        127963000,\n",
    "        11.41,\n",
    "        50.78,\n",
    "        51.09,\n",
    "        10000000,\n",
    "        9,\n",
    "        0\n",
    ")"
   ]
  },
  {
   "cell_type": "code",
   "execution_count": 2,
   "metadata": {},
   "outputs": [],
   "source": [
    "amd = (\n",
    "        6475000,\n",
    "        0.32,\n",
    "        377000,\n",
    "        4556000,\n",
    "        92.38,\n",
    "        28.73,\n",
    "        29.56,\n",
    "        10000000,\n",
    "        10,\n",
    "        0\n",
    ")"
   ]
  },
  {
   "cell_type": "markdown",
   "metadata": {},
   "source": [
    "# Função de fuzzyficação"
   ]
  },
  {
   "cell_type": "code",
   "execution_count": 3,
   "metadata": {},
   "outputs": [],
   "source": [
    "def func_fuzzification(acao):\n",
    "    \n",
    "#==============================================================\n",
    "    # receita liguida baixa. \n",
    "    if acao[0] <= 12000000:\n",
    "        \n",
    "        receita_liquida_ult = [1]\n",
    "        \n",
    "    elif acao[0] < 50000000 and acao[0] > 12000000:\n",
    "        \n",
    "        receita_liquida_ult = [(50000000 - acao[0]) / 48000000]\n",
    "        \n",
    "    else:\n",
    "        \n",
    "        receita_liquida_ult = [0]\n",
    "        \n",
    "    # receita liguida alta.\n",
    "    \n",
    "    if acao[0] >= 100000000:\n",
    "        \n",
    "        receita_liquida_ult.append(1)\n",
    "        \n",
    "    elif acao[0] < 100000000 and acao[0] > 0:\n",
    "        \n",
    "        receita_liquida_ult.append(acao[0] / 100000000)\n",
    "        \n",
    "    else:\n",
    "        receita_liquida_ult.append(0)\n",
    "#==============================================================\n",
    "\n",
    "#==============================================================\n",
    "    # ganho por ação diluido baixo\n",
    "    if acao[1] <= 0.3:\n",
    "        \n",
    "        ganho_acao_diluido_ult = [1]\n",
    "        \n",
    "    elif acao[1] > 0.3 and acao[1] < 5:\n",
    "        \n",
    "        ganho_acao_diluido_ult = [(5 - acao[1]) / 4.7]\n",
    "        \n",
    "    else:\n",
    "        \n",
    "        ganho_acao_diluido_ult = [0]\n",
    "        \n",
    "    # ganho por ação diluido alto\n",
    "    \n",
    "    if acao[1] >= 7.5:\n",
    "        \n",
    "        ganho_acao_diluido_ult.append(1)\n",
    "        \n",
    "    elif acao[1] < 7.5 and acao[1] > 0.6:\n",
    "        \n",
    "        ganho_acao_diluido_ult.append((acao[1] - 0.6)/ 6.9)\n",
    "        \n",
    "    else:\n",
    "        ganho_acao_diluido_ult.append(0)\n",
    "#==============================================================\n",
    "\n",
    "#==============================================================\n",
    "    # Renda liquida baixa\n",
    "    if acao[2] <= 6000000:\n",
    "        \n",
    "        renda_liquida_ult = [1]\n",
    "        \n",
    "    elif acao[2] > 6000000 and acao[2] < 75000000:\n",
    "        \n",
    "        renda_liquida_ult = [(50000000 - acao[2]) / 44000000]\n",
    "        \n",
    "    else:\n",
    "        \n",
    "        renda_liquida_ult = [0]\n",
    "        \n",
    "    # Renda liquida alta\n",
    "    if acao[2] >= 75000000:\n",
    "        \n",
    "        renda_liquida_ult.append(1)\n",
    "        \n",
    "    elif acao[2] < 75000000 and acao[2] > 6000000:\n",
    "        \n",
    "        renda_liquida_ult.append((acao[2] - 6000000)/ 69000000)\n",
    "        \n",
    "    else:\n",
    "        renda_liquida_ult.append(0)\n",
    "#==============================================================\n",
    "\n",
    "#==============================================================\n",
    "    # Total de ativos baixo\n",
    "    if acao[3] <= 3000000:\n",
    "        \n",
    "        total_ativos_ult = [1]\n",
    "        \n",
    "    elif acao[3] > 3000000 and acao[3] < 75000000:\n",
    "        \n",
    "        total_ativos_ult = [(75000000 - acao[3]) / 72000000]\n",
    "        \n",
    "    else:\n",
    "        \n",
    "        total_ativos_ult = [0]\n",
    "        \n",
    "    # Total de ativos alto\n",
    "    if acao[3] >= 100000000:\n",
    "        \n",
    "        total_ativos_ult.append(1)\n",
    "        \n",
    "    elif acao[3] < 100000000 and acao[3] > 5000000:\n",
    "        \n",
    "        total_ativos_ult.append((acao[3] - 5000000)/ 50000000)\n",
    "        \n",
    "    else:\n",
    "        total_ativos_ult.append(0)\n",
    "#==============================================================\n",
    "\n",
    "#==============================================================\n",
    "    # Indice P/L otimo\n",
    "    if acao[4] == 0:\n",
    "        \n",
    "        preco_lucro = [1]\n",
    "        \n",
    "    elif acao[4] > 0 and acao[4] < 45:\n",
    "        \n",
    "        preco_lucro = [(45 - acao[4]) / 45]\n",
    "        \n",
    "    else:\n",
    "        \n",
    "        preco_lucro = [0]\n",
    "        \n",
    "    # Total de ativos péssimo\n",
    "    if acao[4] >= 90:\n",
    "        \n",
    "        preco_lucro.append(1)\n",
    "        \n",
    "    elif acao[4] < 90 and acao[4] > 0:\n",
    "        \n",
    "        preco_lucro.append((acao[4])/ 90)\n",
    "        \n",
    "    else:\n",
    "        preco_lucro.append(0)\n",
    "#==============================================================\n",
    "\n",
    "#==============================================================\n",
    "    #dinheiro do investidor\n",
    "    # dinheiro = pouco\n",
    "    if acao[7] <= 2500:\n",
    "        \n",
    "        dinheiro_investidor = [1]\n",
    "        \n",
    "    elif acao[7] > 2500 and acao[7] < 75000:\n",
    "        \n",
    "        dinheiro_investidor = [(7500 - acao[7]) / 5000]\n",
    "        \n",
    "    else:\n",
    "        \n",
    "        dinheiro_investidor = [0]\n",
    "        \n",
    "    # dinheiro = muito\n",
    "    if acao[7] >= 10000:\n",
    "        \n",
    "        dinheiro_investidor.append(1) #serve para inserir no final da lista\n",
    "        \n",
    "    elif acao[7] < 10000 and acao[7] > 5000:\n",
    "        \n",
    "        dinheiro_investidor.append((acao[7] - 5000)/ 5000)\n",
    "        \n",
    "    else:\n",
    "        dinheiro_investidor.append(0)\n",
    "#===============================================================\n",
    "\n",
    "#============================================================\n",
    "    #perfil do investidor\n",
    "    # perfil = conservador\n",
    "    if acao[8] == 0:\n",
    "        \n",
    "        perfil_investidor = [1]\n",
    "        \n",
    "    elif acao[8] > 0 and acao[8] < 7.5:\n",
    "        \n",
    "        perfil_investidor = [(7.5 - acao[8]) / 7.5]\n",
    "        \n",
    "    else:\n",
    "        \n",
    "        perfil_investidor = [0]\n",
    "        \n",
    "    # perfil = audaz\n",
    "    if acao[8] >= 10:\n",
    "        \n",
    "        perfil_investidor.append(1) #serve para inserir no final da lista\n",
    "        \n",
    "    elif acao[8] < 10 and acao[2] > 2.5:\n",
    "        \n",
    "        perfil_investidor.append((acao[8] - 2.5)/ 7.5)\n",
    "        \n",
    "    else:\n",
    "        perfil_investidor.append(0)\n",
    "#==============================================================\n",
    "    \n",
    "    # Retorno\n",
    "    acao_fuzzyficada = (\n",
    "        receita_liquida_ult,\n",
    "        ganho_acao_diluido_ult,\n",
    "        renda_liquida_ult,\n",
    "        total_ativos_ult,\n",
    "        preco_lucro,\n",
    "        acao[5], # valor abertura ação\n",
    "        acao[6], # valor ação atual\n",
    "        dinheiro_investidor,\n",
    "        perfil_investidor,\n",
    "        acao[9] # valor ação compra\n",
    "    )\n",
    "    return acao_fuzzyficada"
   ]
  },
  {
   "cell_type": "code",
   "execution_count": 4,
   "metadata": {
    "scrolled": false
   },
   "outputs": [
    {
     "data": {
      "text/plain": [
       "([1, 0.06475],\n",
       " [0.9957446808510637, 0],\n",
       " [1, 0],\n",
       " [0.9783888888888889, 0],\n",
       " [0, 1],\n",
       " 28.73,\n",
       " 29.56,\n",
       " [0, 1],\n",
       " [0, 1],\n",
       " 0)"
      ]
     },
     "execution_count": 4,
     "metadata": {},
     "output_type": "execute_result"
    }
   ],
   "source": [
    "func_fuzzification(amd)"
   ]
  },
  {
   "cell_type": "code",
   "execution_count": 5,
   "metadata": {
    "scrolled": true
   },
   "outputs": [
    {
     "data": {
      "text/plain": [
       "([0, 0.70848],\n",
       " [0.11063829787234034, 0.5623188405797102],\n",
       " [0.6578863636363637, 0.21815942028985508],\n",
       " [0, 1],\n",
       " [0.7464444444444445, 0.12677777777777777],\n",
       " 50.78,\n",
       " 51.09,\n",
       " [0, 1],\n",
       " [0, 0.8666666666666667],\n",
       " 0)"
      ]
     },
     "execution_count": 5,
     "metadata": {},
     "output_type": "execute_result"
    }
   ],
   "source": [
    "func_fuzzification(intel)"
   ]
  },
  {
   "cell_type": "code",
   "execution_count": 6,
   "metadata": {
    "scrolled": true
   },
   "outputs": [
    {
     "name": "stdout",
     "output_type": "stream",
     "text": [
      "0.70848\n"
     ]
    }
   ],
   "source": [
    "acao = func_fuzzification(intel)\n",
    "print(acao[0][1]) #estou acessando uma tupla na posição 0 onde possuo uma lista que acesso a segunda posição da lista"
   ]
  },
  {
   "cell_type": "markdown",
   "metadata": {},
   "source": [
    "# A seguir estão implementadas as regras de inferência"
   ]
  },
  {
   "cell_type": "markdown",
   "metadata": {},
   "source": [
    "acao_inferencia = (\n",
    "        regra_1(comprar, vender, nenhuma atividade),\n",
    "    \n",
    ")"
   ]
  },
  {
   "cell_type": "markdown",
   "metadata": {},
   "source": [
    "acao_fuzzyficada = (\n",
    "    [0]    receita_liquida_ult(baixa, alta),   \n",
    "    [1]    ganho_acao_diluido_ult(baixa, alta),\n",
    "    [2]    renda_liquida_ult(baixa, alta),\n",
    "    [3]    total_ativos_ult(baixa, alta),\n",
    "    [4]    preco_lucro(ótimo, péssimo),\n",
    "    [5]    acao[5], # valor abertura ação\n",
    "    [6]    acao[6], # valor ação atual\n",
    "    [7]    dinheiro_investidor(pouco, muito),\n",
    "    [8]    perfil_investidor(conservador, audaz),\n",
    "    [9]    acao[9] # valor ação compra\n",
    "    )"
   ]
  },
  {
   "cell_type": "markdown",
   "metadata": {},
   "source": [
    "acao_inferencia[\n",
    "        regra1 = [comprar, vender, nada]\n",
    "]"
   ]
  },
  {
   "cell_type": "code",
   "execution_count": 7,
   "metadata": {},
   "outputs": [],
   "source": [
    "def func_inferencia(acao_fuzzificada):\n",
    "\n",
    "    # inicialização\n",
    "    acao_inferencia = [\n",
    "        [0, 0, 0],\n",
    "        [0, 0, 0],\n",
    "        [0, 0, 0],\n",
    "        [0, 0, 0],\n",
    "        [0, 0, 0],\n",
    "        [0, 0, 0],\n",
    "        [0, 0, 0]\n",
    "    ]\n",
    "    \n",
    "    #Regra 1\n",
    "    if acao_fuzzificada[0][0] == 1 and acao_fuzzificada[1][1] == 1 and acao_fuzzificada[9][1] == 1:\n",
    "        print(\"Regra 1: Comprar com grau de pertença de: 1\")\n",
    "        acao_inferencia[0][0] = 1 # regra 1 comprar\n",
    "    else:\n",
    "        print(\"Regra 1: Não comprar\")\n",
    "        acao_inferencia[0][2] = 1 # regra 1 fazer nada\n",
    "        \n",
    "    #Regra 2\n",
    "    ganho_acao_mediano = (acao_fuzzificada[1][0] + acao_fuzzificada[1][1])/2\n",
    "    preco_lucro_mediano = (acao_fuzzificada[4][0] + acao_fuzzificada[4][1])/2\n",
    "    \n",
    "    if ganho_acao_mediano != 0 and ganho_acao_mediano != 1 and acao_fuzzificada[3][0] == 1 and preco_lucro_mediano != 0 and preco_lucro_mediano != 1:\n",
    "        \n",
    "        minimo = min(ganho_acao_mediano, preco_lucro_mediano)\n",
    "        print(\"Regra 2: Comprar com grau de certeza de:\" + minimo)\n",
    "        acao_inferencia[1][0] = minimo # regra 2 comprar\n",
    "        \n",
    "    else:\n",
    "    \n",
    "        print(\"Regra 2: Não comprar\")\n",
    "        acao_inferencia[1][2] = 1 # regra 2 fazer nada\n",
    "        \n",
    "    #Regra 3 \n",
    "    if acao_fuzzificada[4][1] == 1 and acao_fuzzificada[2][0] == 1:\n",
    "        \n",
    "        print(\"Regra 3: Vender com grau de pertença de: 1\")\n",
    "        acao_inferencia[2][1] = 1 # regra 3 vender\n",
    "    \n",
    "    else:\n",
    "        \n",
    "        print(\"Regra 3: Não venda!\")\n",
    "        acao_inferencia[2][2] = 1 # regra 3 fazer nada\n",
    "        \n",
    "    #Regra 4 \n",
    "    if acao_fuzzificada[8][1] == 1 and acao_fuzzificada[6] < acao_fuzzificada[5] and acao_fuzzificada[8][1] == 1 and acao_fuzzificada[2][1] == 1 and acao_fuzzificada[1][1] == 1  and acao_fuzzificada[4][1] == 1:\n",
    "        \n",
    "        print(\"Regra 4: Comprar ação com grau de pertença de: 1\")\n",
    "        acao_inferencia[3][0] = 1 # regra 4 comprar\n",
    "        \n",
    "    else:\n",
    "        \n",
    "        print(\"Regra 4: Não compre!\")\n",
    "        acao_inferencia[3][2] = 1 # regra 4 fazer nada\n",
    "\n",
    "    #Regra 5 \n",
    "    if acao_fuzzificada[6] < acao_fuzzificada[5] and acao_fuzzificada[8][0] == 1 and acao_fuzzificada[7][0] == 1 and acao_fuzzificada[4][0] == 1:\n",
    "        \n",
    "        print(\"Regra 5: Comprar ação com grau de pertença de: 1\")\n",
    "        acao_inferencia[4][0] = 1 # regra 5 comprar\n",
    "        \n",
    "    else:\n",
    "        \n",
    "        print(\"Regra 5: Não compre!\")\n",
    "        acao_inferencia[4][2] = 1 # regra 5 fazer nada\n",
    "        \n",
    "    #Regra 6 \n",
    "    if acao_fuzzificada[3][1] == 1 and acao_fuzzificada[2][0] == 1 and ganho_acao_mediano !=0 and ganho_acao_mediano !=1 and acao_fuzzificada[0][0] == 1 and acao_fuzzificada[4][1] == 1 and acao_fuzzificada[8][0]:\n",
    "        \n",
    "        minimo = min(ganho_acao_mediano, preco_lucro_mediano)\n",
    "        print(\"Regra 6: Venda com grau de pertença de:\" + minimo)\n",
    "        acao_inferencia[5][1] = 1 # regra 6 vender\n",
    "        \n",
    "    else:\n",
    "        \n",
    "        print(\"Regra 6: Não venda!\")\n",
    "        acao_inferencia[5][2] = 1 # regra 6 fazer nada\n",
    "        \n",
    "    #Regra 7\n",
    "    if acao_fuzzificada[5] > acao_fuzzificada[6] and (acao_fuzzificada[0][1] == 1 or acao_fuzzificada[4][0]==1):\n",
    "        \n",
    "        print(\"Regra 7: Compre com grau de pertença de: 1\")\n",
    "        acao_inferencia[6][0] = 1 # regra 7 comprar\n",
    "        \n",
    "    else:\n",
    "        \n",
    "        print(\"Regra 7: Não compre!\")\n",
    "        acao_inferencia[6][2] = 1 # regra 7 fazer nada\n",
    "        \n",
    "    # retorno\n",
    "    return acao_inferencia"
   ]
  },
  {
   "cell_type": "code",
   "execution_count": 8,
   "metadata": {
    "scrolled": true
   },
   "outputs": [
    {
     "name": "stdout",
     "output_type": "stream",
     "text": [
      "Regra 1: Não comprar\n",
      "Regra 2: Não comprar\n",
      "Regra 3: Vender com grau de pertença de: 1\n",
      "Regra 4: Não compre!\n",
      "Regra 5: Não compre!\n",
      "Regra 6: Não venda!\n",
      "Regra 7: Não compre!\n"
     ]
    },
    {
     "data": {
      "text/plain": [
       "[[0, 0, 1], [0, 0, 1], [0, 1, 0], [0, 0, 1], [0, 0, 1], [0, 0, 1], [0, 0, 1]]"
      ]
     },
     "execution_count": 8,
     "metadata": {},
     "output_type": "execute_result"
    }
   ],
   "source": [
    "acao_fuzzificada_amd = func_fuzzification(amd)\n",
    "\n",
    "func_inferencia(acao_fuzzificada_amd)"
   ]
  },
  {
   "cell_type": "code",
   "execution_count": 9,
   "metadata": {},
   "outputs": [
    {
     "name": "stdout",
     "output_type": "stream",
     "text": [
      "Regra 1: Não comprar\n",
      "Regra 2: Não comprar\n",
      "Regra 3: Não venda!\n",
      "Regra 4: Não compre!\n",
      "Regra 5: Não compre!\n",
      "Regra 6: Não venda!\n",
      "Regra 7: Não compre!\n"
     ]
    },
    {
     "data": {
      "text/plain": [
       "[[0, 0, 1], [0, 0, 1], [0, 0, 1], [0, 0, 1], [0, 0, 1], [0, 0, 1], [0, 0, 1]]"
      ]
     },
     "execution_count": 9,
     "metadata": {},
     "output_type": "execute_result"
    }
   ],
   "source": [
    "acao_fuzzificada_intel = func_fuzzification(intel)\n",
    "\n",
    "func_inferencia(acao_fuzzificada_intel)"
   ]
  },
  {
   "cell_type": "code",
   "execution_count": null,
   "metadata": {},
   "outputs": [],
   "source": []
  }
 ],
 "metadata": {
  "kernelspec": {
   "display_name": "Python 3",
   "language": "python",
   "name": "python3"
  },
  "language_info": {
   "codemirror_mode": {
    "name": "ipython",
    "version": 3
   },
   "file_extension": ".py",
   "mimetype": "text/x-python",
   "name": "python",
   "nbconvert_exporter": "python",
   "pygments_lexer": "ipython3",
   "version": "3.7.3"
  }
 },
 "nbformat": 4,
 "nbformat_minor": 2
}
